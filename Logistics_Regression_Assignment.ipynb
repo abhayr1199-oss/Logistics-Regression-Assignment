{
  "nbformat": 4,
  "nbformat_minor": 0,
  "metadata": {
    "colab": {
      "provenance": []
    },
    "kernelspec": {
      "name": "python3",
      "display_name": "Python 3"
    },
    "language_info": {
      "name": "python"
    }
  },
  "cells": [
    {
      "cell_type": "code",
      "execution_count": null,
      "metadata": {
        "id": "WWs-L95hdcWG"
      },
      "outputs": [],
      "source": [
        "#Logistics Regression Assignment"
      ]
    },
    {
      "cell_type": "markdown",
      "source": [
        "Question 1: What is Logistic Regression, and how does it differ from Linear\n",
        "Regression?"
      ],
      "metadata": {
        "id": "2v1s0tIudoGo"
      }
    },
    {
      "cell_type": "markdown",
      "source": [
        "Answer:\n",
        "\n",
        "Logistic Regression is a supervised machine learning algorithm used for classification problems (e.g., yes/no, spam/ham).\n",
        "\n",
        "It predicts the probability of a class by applying the sigmoid function to a linear combination of input features.\n",
        "\n",
        "Linear Regression, on the other hand, predicts a continuous numeric value (e.g., price, salary).\n",
        "\n",
        "Key difference:\n",
        "\n",
        "Linear Regression output: real numbers (−∞ to +∞).\n",
        "\n",
        "Logistic Regression output: probability (0 to 1), which is then thresholded to classify into classes"
      ],
      "metadata": {
        "id": "PRrww9EzdoI0"
      }
    },
    {
      "cell_type": "markdown",
      "source": [
        "Question 2: Explain the role of the Sigmoid function in Logistic Regression."
      ],
      "metadata": {
        "id": "-5gFO1hOdoLy"
      }
    },
    {
      "cell_type": "markdown",
      "source": [
        "Answer:\n",
        "\n",
        "The Sigmoid function maps any real number into the range (0,1).\n",
        "\n",
        "Formula:\n",
        "\n",
        "𝜎\n",
        "(\n",
        "𝑧\n",
        ")\n",
        "=\n",
        "1\n",
        "1\n",
        "+\n",
        "𝑒\n",
        "−\n",
        "𝑧\n",
        "σ(z)=\n",
        "1+e\n",
        "−z\n",
        "1\n",
        "\t​\n",
        "\n",
        "\n",
        "In Logistic Regression:\n",
        "\n",
        "The linear model produces a score (z).\n",
        "\n",
        "The sigmoid converts z into a probability.\n",
        "\n",
        "If probability > 0.5 → class 1; else → class 0."
      ],
      "metadata": {
        "id": "_Gn0oVRpdkhx"
      }
    },
    {
      "cell_type": "markdown",
      "source": [
        "Question 3: What is Regularization in Logistic Regression and why is it needed?"
      ],
      "metadata": {
        "id": "dnYLUXG_d4Uj"
      }
    },
    {
      "cell_type": "markdown",
      "source": [
        "Answer:\n",
        "\n",
        "Regularization is a technique to prevent overfitting by adding a penalty term to the loss function.\n",
        "\n",
        "In Logistic Regression:\n",
        "\n",
        "L1 regularization (Lasso): adds absolute values of coefficients → feature selection.\n",
        "\n",
        "L2 regularization (Ridge): adds squared values of coefficients → keeps all features but shrinks coefficients.\n",
        "\n",
        "Needed because:\n",
        "\n",
        "It improves generalization.\n",
        "\n",
        "Prevents model from relying too heavily on a few features."
      ],
      "metadata": {
        "id": "jZMplm_Hd7sN"
      }
    },
    {
      "cell_type": "markdown",
      "source": [
        "Question 4: What are some common evaluation metrics for classification models, and\n",
        "why are they important?"
      ],
      "metadata": {
        "id": "LBjScw1Fd99o"
      }
    },
    {
      "cell_type": "markdown",
      "source": [
        "Answer:\n",
        "\n",
        "Accuracy – proportion of correctly classified samples.\n",
        "\n",
        "Precision – proportion of predicted positives that are actually positive (important in fraud/spam detection).\n",
        "\n",
        "Recall (Sensitivity) – proportion of actual positives correctly identified (important in medical diagnosis).\n",
        "\n",
        "F1-Score – harmonic mean of Precision & Recall (useful when dataset is imbalanced).\n",
        "\n",
        "ROC-AUC – measures how well model separates classes at all thresholds.\n",
        "\n",
        "These metrics are important because accuracy alone may be misleading on imbalanced datasets."
      ],
      "metadata": {
        "id": "ULLzy7g9eCAJ"
      }
    },
    {
      "cell_type": "markdown",
      "source": [
        "Question 5: Write a Python program that loads a CSV file into a Pandas DataFrame,\n",
        "splits into train/test sets, trains a Logistic Regression model, and prints its accuracy.\n",
        "(Use Dataset from sklearn package)\n",
        "(Include your Python code and output in the code box below.)\n"
      ],
      "metadata": {
        "id": "eGr2XclXeEoD"
      }
    },
    {
      "cell_type": "code",
      "source": [
        "import pandas as pd\n",
        "from sklearn.model_selection import train_test_split\n",
        "from sklearn.linear_model import LogisticRegression\n",
        "from sklearn.datasets import load_breast_cancer\n",
        "from sklearn.metrics import accuracy_score\n",
        "\n",
        "# Load dataset\n",
        "data = load_breast_cancer()\n",
        "X, y = data.data, data.target\n",
        "\n",
        "# Train-test split\n",
        "X_train, X_test, y_train, y_test = train_test_split(X, y, test_size=0.3, random_state=42)\n",
        "\n",
        "# Train Logistic Regression\n",
        "model = LogisticRegression(max_iter=10000)\n",
        "model.fit(X_train, y_train)\n",
        "\n",
        "# Predictions\n",
        "y_pred = model.predict(X_test)\n",
        "\n",
        "# Accuracy\n",
        "print(\"Accuracy:\", accuracy_score(y_test, y_pred))\n"
      ],
      "metadata": {
        "colab": {
          "base_uri": "https://localhost:8080/"
        },
        "id": "xkH_NoGfeFHp",
        "outputId": "64bd8085-2847-4723-92f6-dee3a7ee327d"
      },
      "execution_count": 1,
      "outputs": [
        {
          "output_type": "stream",
          "name": "stdout",
          "text": [
            "Accuracy: 0.9766081871345029\n"
          ]
        }
      ]
    },
    {
      "cell_type": "markdown",
      "source": [
        "Question 6: Write a Python program to train a Logistic Regression model using L2\n",
        "regularization (Ridge) and print the model coefficients and accuracy.\n",
        "(Use Dataset from sklearn package)\n",
        "(Include your Python code and output in the code box below.)\n"
      ],
      "metadata": {
        "id": "R58st-zPeJt5"
      }
    },
    {
      "cell_type": "code",
      "source": [
        "import numpy as np\n",
        "\n",
        "# Train with L2 regularization\n",
        "ridge_model = LogisticRegression(penalty='l2', C=1.0, solver='lbfgs', max_iter=10000)\n",
        "ridge_model.fit(X_train, y_train)\n",
        "\n",
        "# Print coefficients & accuracy\n",
        "print(\"Model Coefficients:\", ridge_model.coef_)\n",
        "print(\"Accuracy:\", ridge_model.score(X_test, y_test))\n"
      ],
      "metadata": {
        "colab": {
          "base_uri": "https://localhost:8080/"
        },
        "id": "TWvHRc_weLM5",
        "outputId": "12a51c63-8024-4883-bdc5-a9c2ffad7bef"
      },
      "execution_count": 2,
      "outputs": [
        {
          "output_type": "stream",
          "name": "stdout",
          "text": [
            "Model Coefficients: [[ 1.04679457e+00  2.31996752e-01 -3.86028605e-01  2.58310210e-02\n",
            "  -1.36538685e-01 -2.36131088e-01 -5.12005351e-01 -2.73859052e-01\n",
            "  -2.18614922e-01 -3.82641023e-02 -1.19166621e-01  1.36150732e+00\n",
            "   4.48215042e-01 -1.44997753e-01 -1.83289744e-02  7.05601961e-03\n",
            "  -6.65454859e-02 -3.50499383e-02 -4.41191713e-02  7.11959077e-04\n",
            "   4.13217528e-02 -5.05454449e-01 -6.06121183e-02 -1.09313373e-02\n",
            "  -2.74620760e-01 -7.15241331e-01 -1.33719798e+00 -4.94582619e-01\n",
            "  -7.11943674e-01 -9.93596108e-02]]\n",
            "Accuracy: 0.9766081871345029\n"
          ]
        }
      ]
    },
    {
      "cell_type": "markdown",
      "source": [
        "Question 7: Write a Python program to train a Logistic Regression model for multiclass\n",
        "classification using multi_class='ovr' and print the classification report.\n",
        "(Use Dataset from sklearn package)\n",
        "(Include your Python code and output in the code box below.)\n"
      ],
      "metadata": {
        "id": "xH1fiKMqeNWr"
      }
    },
    {
      "cell_type": "code",
      "source": [
        "from sklearn.datasets import load_iris\n",
        "from sklearn.metrics import classification_report\n",
        "\n",
        "# Load multiclass dataset\n",
        "iris = load_iris()\n",
        "X, y = iris.data, iris.target\n",
        "\n",
        "# Train-test split\n",
        "X_train, X_test, y_train, y_test = train_test_split(X, y, test_size=0.3, random_state=42)\n",
        "\n",
        "# Logistic Regression with One-vs-Rest\n",
        "ovr_model = LogisticRegression(multi_class='ovr', max_iter=10000)\n",
        "ovr_model.fit(X_train, y_train)\n",
        "\n",
        "# Predictions\n",
        "y_pred = ovr_model.predict(X_test)\n",
        "\n",
        "# Classification Report\n",
        "print(classification_report(y_test, y_pred))\n"
      ],
      "metadata": {
        "colab": {
          "base_uri": "https://localhost:8080/"
        },
        "id": "qgU9F72keP2R",
        "outputId": "5b62af52-b0e5-4a5d-fa91-2033e612522d"
      },
      "execution_count": 3,
      "outputs": [
        {
          "output_type": "stream",
          "name": "stdout",
          "text": [
            "              precision    recall  f1-score   support\n",
            "\n",
            "           0       1.00      1.00      1.00        19\n",
            "           1       1.00      0.85      0.92        13\n",
            "           2       0.87      1.00      0.93        13\n",
            "\n",
            "    accuracy                           0.96        45\n",
            "   macro avg       0.96      0.95      0.95        45\n",
            "weighted avg       0.96      0.96      0.96        45\n",
            "\n"
          ]
        },
        {
          "output_type": "stream",
          "name": "stderr",
          "text": [
            "/usr/local/lib/python3.12/dist-packages/sklearn/linear_model/_logistic.py:1256: FutureWarning: 'multi_class' was deprecated in version 1.5 and will be removed in 1.7. Use OneVsRestClassifier(LogisticRegression(..)) instead. Leave it to its default value to avoid this warning.\n",
            "  warnings.warn(\n"
          ]
        }
      ]
    },
    {
      "cell_type": "markdown",
      "source": [
        "Question 8: Write a Python program to apply GridSearchCV to tune C and penalty\n",
        "hyperparameters for Logistic Regression and print the best parameters and validation\n",
        "accuracy.\n",
        "(Use Dataset from sklearn package)\n",
        "(Include your Python code and output in the code box below.)\n"
      ],
      "metadata": {
        "id": "s6cGXUQleSbD"
      }
    },
    {
      "cell_type": "code",
      "source": [
        "from sklearn.model_selection import GridSearchCV\n",
        "\n",
        "# Define model & parameters\n",
        "log_reg = LogisticRegression(max_iter=10000, solver='liblinear')\n",
        "param_grid = {'C': [0.01, 0.1, 1, 10], 'penalty': ['l1', 'l2']}\n",
        "\n",
        "# GridSearch\n",
        "grid = GridSearchCV(log_reg, param_grid, cv=5, scoring='accuracy')\n",
        "grid.fit(X_train, y_train)\n",
        "\n",
        "print(\"Best Parameters:\", grid.best_params_)\n",
        "print(\"Validation Accuracy:\", grid.best_score_)\n"
      ],
      "metadata": {
        "colab": {
          "base_uri": "https://localhost:8080/"
        },
        "id": "CGgY6kuBeUFJ",
        "outputId": "cada27b0-321b-4c22-b00a-c2a722712cec"
      },
      "execution_count": 4,
      "outputs": [
        {
          "output_type": "stream",
          "name": "stdout",
          "text": [
            "Best Parameters: {'C': 10, 'penalty': 'l2'}\n",
            "Validation Accuracy: 0.9523809523809523\n"
          ]
        }
      ]
    },
    {
      "cell_type": "markdown",
      "source": [
        "Question 9: Write a Python program to standardize the features before training Logistic\n",
        "Regression and compare the model's accuracy with and without scaling.\n",
        "(Use Dataset from sklearn package)\n",
        "(Include your Python code and output in the code box below.)"
      ],
      "metadata": {
        "id": "pgPvoCTGeWfB"
      }
    },
    {
      "cell_type": "code",
      "source": [
        "from sklearn.preprocessing import StandardScaler\n",
        "\n",
        "# Without scaling\n",
        "base_model = LogisticRegression(max_iter=10000)\n",
        "base_model.fit(X_train, y_train)\n",
        "print(\"Accuracy without scaling:\", base_model.score(X_test, y_test))\n",
        "\n",
        "# With scaling\n",
        "scaler = StandardScaler()\n",
        "X_train_scaled = scaler.fit_transform(X_train)\n",
        "X_test_scaled = scaler.transform(X_test)\n",
        "\n",
        "scaled_model = LogisticRegression(max_iter=10000)\n",
        "scaled_model.fit(X_train_scaled, y_train)\n",
        "print(\"Accuracy with scaling:\", scaled_model.score(X_test_scaled, y_test))\n"
      ],
      "metadata": {
        "colab": {
          "base_uri": "https://localhost:8080/"
        },
        "id": "Nh2nrqygeYV1",
        "outputId": "56b1b481-a890-4c74-a81c-ad2fef114ab7"
      },
      "execution_count": 5,
      "outputs": [
        {
          "output_type": "stream",
          "name": "stdout",
          "text": [
            "Accuracy without scaling: 1.0\n",
            "Accuracy with scaling: 1.0\n"
          ]
        }
      ]
    },
    {
      "cell_type": "markdown",
      "source": [
        "Question 10: Imagine you are working at an e-commerce company that wants to\n",
        "predict which customers will respond to a marketing campaign. Given an imbalanced\n",
        "dataset (only 5% of customers respond), describe the approach you’d take to build a\n",
        "Logistic Regression model — including data handling, feature scaling, balancing\n",
        "classes, hyperparameter tuning, and evaluating the model for this real-world business\n",
        "use case.\n"
      ],
      "metadata": {
        "id": "yPexGH2JeavZ"
      }
    },
    {
      "cell_type": "markdown",
      "source": [
        "Answer (approach):\n",
        "\n",
        "Data Handling:\n",
        "\n",
        "Collect customer demographics, browsing history, past purchases.\n",
        "\n",
        "Handle missing values & categorical encoding.\n",
        "\n",
        "Feature Scaling:\n",
        "\n",
        "Apply StandardScaler or MinMaxScaler for numerical features.\n",
        "\n",
        "Balancing Classes:\n",
        "\n",
        "Dataset is highly imbalanced (5% positive).\n",
        "\n",
        "Use techniques like:\n",
        "\n",
        "SMOTE (Synthetic Minority Oversampling Technique).\n",
        "\n",
        "Class weights in Logistic Regression (class_weight='balanced').\n",
        "\n",
        "Hyperparameter Tuning:\n",
        "\n",
        "Tune C (regularization strength) and penalty (L1/L2) using GridSearchCV.\n",
        "\n",
        "Evaluation:\n",
        "\n",
        "Don’t rely on accuracy (since 95% accuracy possible by always predicting “No”).\n",
        "\n",
        "Use Precision, Recall, F1-score, ROC-AUC.\n",
        "\n",
        "Focus on Recall (catch as many responders as possible) or F1-score depending on business need.\n",
        "\n",
        "Business Use:\n",
        "\n",
        "Deploy model to predict which customers are likely to respond.\n",
        "\n",
        "Use probabilities → target top % of customers with highest predicted probability → cost-effective marketing."
      ],
      "metadata": {
        "id": "I8gBuV17edhx"
      }
    }
  ]
}